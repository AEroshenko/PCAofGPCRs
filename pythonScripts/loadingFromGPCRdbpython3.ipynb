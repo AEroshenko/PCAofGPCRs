{
 "cells": [
  {
   "cell_type": "code",
   "execution_count": 18,
   "metadata": {
    "collapsed": false
   },
   "outputs": [],
   "source": [
    "from selenium import webdriver\n",
    "import time"
   ]
  },
  {
   "cell_type": "code",
   "execution_count": 19,
   "metadata": {
    "collapsed": false
   },
   "outputs": [],
   "source": [
    "filesList=open(\"/media/my_extra_space/projects/1510GPCR/datFiles/listOfAClassesIdsForPCA.dat\",'r')\n",
    "pathToChainedIds=\"/media/my_extra_space/projects/1510GPCR/pdbs/chained/\""
   ]
  },
  {
   "cell_type": "code",
   "execution_count": 20,
   "metadata": {
    "collapsed": false
   },
   "outputs": [],
   "source": [
    "for line in filesList:\n",
    "    filePath=pathToChainedIds+line[0:6]+\".pdb\"\n",
    "    browser = webdriver.Chrome()\n",
    "    browser.get('http://gpcrdb.org/structure/generic_numbering_index')\n",
    "    inputFile = browser.find_element_by_xpath(\"//*[@id='id_pdb_file']\")\n",
    "    time.sleep(4)\n",
    "    inputFile.send_keys(filePath)\n",
    "    button=browser.find_element_by_xpath(\"//*[@id='selection-buttons']/div/div/a\")\n",
    "    time.sleep(4)\n",
    "    button.click()\n",
    "    time.sleep(7)\n",
    "    browser.get('http://gpcrdb.org/structure/generic_numbering_results/full')\n",
    "    time.sleep(7)\n",
    "    browser.quit()\n",
    "    time.sleep(4)\n",
    "filesList.close()"
   ]
  },
  {
   "cell_type": "code",
   "execution_count": null,
   "metadata": {
    "collapsed": false
   },
   "outputs": [],
   "source": []
  },
  {
   "cell_type": "code",
   "execution_count": null,
   "metadata": {
    "collapsed": false
   },
   "outputs": [],
   "source": []
  },
  {
   "cell_type": "code",
   "execution_count": null,
   "metadata": {
    "collapsed": false
   },
   "outputs": [],
   "source": []
  },
  {
   "cell_type": "code",
   "execution_count": 20,
   "metadata": {
    "collapsed": true
   },
   "outputs": [],
   "source": []
  },
  {
   "cell_type": "code",
   "execution_count": null,
   "metadata": {
    "collapsed": true
   },
   "outputs": [],
   "source": []
  }
 ],
 "metadata": {
  "kernelspec": {
   "display_name": "Python 3",
   "language": "python",
   "name": "python3"
  },
  "language_info": {
   "codemirror_mode": {
    "name": "ipython",
    "version": 3
   },
   "file_extension": ".py",
   "mimetype": "text/x-python",
   "name": "python",
   "nbconvert_exporter": "python",
   "pygments_lexer": "ipython3",
   "version": "3.5.1"
  }
 },
 "nbformat": 4,
 "nbformat_minor": 0
}
